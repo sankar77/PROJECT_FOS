{
 "cells": [
  {
   "cell_type": "code",
   "execution_count": 1,
   "metadata": {},
   "outputs": [],
   "source": [
    "import os\n",
    "import numpy as np\n",
    "import pandas as pd\n",
    "import csv\n",
    "import json\n",
    "import tqdm"
   ]
  },
  {
   "cell_type": "code",
   "execution_count": 2,
   "metadata": {},
   "outputs": [
    {
     "name": "stderr",
     "output_type": "stream",
     "text": [
      "/Users/abhinivesh/anaconda3/lib/python3.6/site-packages/IPython/core/interactiveshell.py:3058: DtypeWarning: Columns (7) have mixed types. Specify dtype option on import or set low_memory=False.\n",
      "  interactivity=interactivity, compiler=compiler, result=result)\n"
     ]
    }
   ],
   "source": [
    "title_akas_df = pd.read_csv('../title.akas.tsv', sep= '\\t')"
   ]
  },
  {
   "cell_type": "code",
   "execution_count": 3,
   "metadata": {},
   "outputs": [
    {
     "data": {
      "text/plain": [
       "'\\nshowID\\nshowName?\\nepisodeID\\nseasonNumber\\nepisodeNumber\\n'"
      ]
     },
     "execution_count": 3,
     "metadata": {},
     "output_type": "execute_result"
    }
   ],
   "source": [
    "'''\n",
    "showID\n",
    "showName\n",
    "'''\n",
    "\n",
    "'''\n",
    "showID\n",
    "showName?\n",
    "episodeID\n",
    "seasonNumber\n",
    "episodeNumber\n",
    "'''"
   ]
  },
  {
   "cell_type": "code",
   "execution_count": 4,
   "metadata": {},
   "outputs": [
    {
     "data": {
      "text/plain": [
       "0.009869218124526418"
      ]
     },
     "execution_count": 4,
     "metadata": {},
     "output_type": "execute_result"
    }
   ],
   "source": [
    "len( title_akas_df[ title_akas_df.language == 'en' ] ) / len(title_akas_df)"
   ]
  },
  {
   "cell_type": "code",
   "execution_count": 8,
   "metadata": {},
   "outputs": [
    {
     "data": {
      "text/plain": [
       "(251832, 123848)"
      ]
     },
     "execution_count": 8,
     "metadata": {},
     "output_type": "execute_result"
    }
   ],
   "source": [
    "len(title_akas_df[ title_akas_df.language == 'en' ]), len(title_akas_df[ title_akas_df.isOriginalTitle == 1 ])"
   ]
  },
  {
   "cell_type": "code",
   "execution_count": 6,
   "metadata": {},
   "outputs": [],
   "source": [
    "title_akas_english = title_akas_df[ title_akas_df.language == 'en' ]"
   ]
  },
  {
   "cell_type": "code",
   "execution_count": 7,
   "metadata": {},
   "outputs": [],
   "source": [
    "movie_mappings_df = title_akas_english[ ['titleId', 'title'] ]"
   ]
  },
  {
   "cell_type": "code",
   "execution_count": 9,
   "metadata": {},
   "outputs": [],
   "source": [
    "movie_mappings_df = movie_mappings_df.rename(columns={\n",
    "    'titleId': 'showID',\n",
    "    'title': 'showName'\n",
    "})"
   ]
  },
  {
   "cell_type": "code",
   "execution_count": 10,
   "metadata": {},
   "outputs": [],
   "source": [
    "movie_mappings_list = movie_mappings_df.to_dict('records')"
   ]
  },
  {
   "cell_type": "code",
   "execution_count": 22,
   "metadata": {},
   "outputs": [],
   "source": [
    "title_episodes_df = pd.read_csv('../title.episode.tsv', sep= '\\t')"
   ]
  },
  {
   "cell_type": "code",
   "execution_count": 24,
   "metadata": {},
   "outputs": [],
   "source": [
    "title_episodes_df = title_episodes_df.rename(columns={\n",
    "    'tconst': 'episodeID',\n",
    "    'parentTconst': 'showID',\n",
    "    'seasonNumber': 'seasonNumber',\n",
    "    'episodeNumber': 'episodeNumber'\n",
    "})"
   ]
  },
  {
   "cell_type": "code",
   "execution_count": 47,
   "metadata": {},
   "outputs": [],
   "source": [
    "series_mappings_list = title_episodes_df.to_dict('records')"
   ]
  },
  {
   "cell_type": "code",
   "execution_count": 11,
   "metadata": {},
   "outputs": [],
   "source": [
    "with open('../show_mappings.json', 'w') as json_file:\n",
    "    json.dump(movie_mappings_list, json_file, indent=4)"
   ]
  },
  {
   "cell_type": "code",
   "execution_count": 48,
   "metadata": {},
   "outputs": [],
   "source": [
    "with open('../series_mappings.json', 'w') as json_file:\n",
    "    json.dump(series_mappings_list, json_file, indent=4)"
   ]
  },
  {
   "cell_type": "code",
   "execution_count": 21,
   "metadata": {},
   "outputs": [
    {
     "data": {
      "text/plain": [
       "array(['tt0000012', 'tt0000016', 'tt0000029', ..., 'tt9916362',\n",
       "       'tt9916428', 'tt9916720'], dtype=object)"
      ]
     },
     "execution_count": 21,
     "metadata": {},
     "output_type": "execute_result"
    }
   ],
   "source": [
    "movie_mappings_df.showID.unique()"
   ]
  },
  {
   "cell_type": "code",
   "execution_count": 30,
   "metadata": {},
   "outputs": [
    {
     "name": "stdout",
     "output_type": "stream",
     "text": [
      "../show_mappings_0.json 0 20000\n",
      "../show_mappings_1.json 20000 40000\n",
      "../show_mappings_2.json 40000 60000\n",
      "../show_mappings_3.json 60000 80000\n",
      "../show_mappings_4.json 80000 100000\n",
      "../show_mappings_5.json 100000 120000\n",
      "../show_mappings_6.json 120000 140000\n",
      "../show_mappings_7.json 140000 160000\n",
      "../show_mappings_8.json 160000 180000\n",
      "../show_mappings_9.json 180000 200000\n",
      "../show_mappings_10.json 200000 220000\n",
      "../show_mappings_11.json 220000 240000\n",
      "../show_mappings_12.json 240000 260000\n"
     ]
    }
   ],
   "source": [
    "cntr = 0\n",
    "\n",
    "for i in range(0, len(movie_mappings_list), 20000):\n",
    "    \n",
    "    file_path = '../show_mappings_' + str(cntr) + '.json'\n",
    "    \n",
    "    with open(file_path, 'w') as json_file:\n",
    "        json.dump(movie_mappings_list[i:i+20000], json_file, indent=4)\n",
    "        print(file_path, i, i+20000)\n",
    "    \n",
    "    cntr += 1"
   ]
  },
  {
   "cell_type": "code",
   "execution_count": null,
   "metadata": {},
   "outputs": [],
   "source": []
  }
 ],
 "metadata": {
  "kernelspec": {
   "display_name": "Python 3",
   "language": "python",
   "name": "python3"
  },
  "language_info": {
   "codemirror_mode": {
    "name": "ipython",
    "version": 3
   },
   "file_extension": ".py",
   "mimetype": "text/x-python",
   "name": "python",
   "nbconvert_exporter": "python",
   "pygments_lexer": "ipython3",
   "version": "3.6.9"
  }
 },
 "nbformat": 4,
 "nbformat_minor": 2
}
